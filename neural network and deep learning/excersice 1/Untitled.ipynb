{
 "cells": [
  {
   "cell_type": "code",
   "execution_count": 170,
   "id": "bbdf74d2",
   "metadata": {},
   "outputs": [
    {
     "name": "stdout",
     "output_type": "stream",
     "text": [
      "Old list: [[1, 1, 1], ['BB', 2, 2], [3, 3, 3]]\n",
      "New list: [[1, 1, 1], [2, 2, 2], [3, 3, 3]]\n"
     ]
    }
   ],
   "source": [
    "import numpy as np\n",
    "import copy\n",
    "x=np.array([[[4,4,2],[1,2,3],[2,4,2]]])\n",
    "a=x.reshape(x.shape[0],-1)\n",
    "b=a/10\n",
    "\n",
    "\n",
    "old_list = [[1, 1, 1], [2, 2, 2], [3, 3, 3]]\n",
    "new_list = copy.deepcopy(old_list)\n",
    "\n",
    "old_list[1][0] = 'BB'\n",
    "\n",
    "print(\"Old list:\", old_list)\n",
    "print(\"New list:\", new_list)"
   ]
  },
  {
   "cell_type": "code",
   "execution_count": 4,
   "id": "0a7c3692",
   "metadata": {},
   "outputs": [],
   "source": [
    "def sigmoid(z):\n",
    "    \"\"\"\n",
    "    Compute the sigmoid of z\n",
    "\n",
    "    Arguments:\n",
    "    z -- A scalar or numpy array of any size.\n",
    "\n",
    "    Return:\n",
    "    s -- sigmoid(z)\n",
    "    \"\"\"\n",
    "\n",
    "    #(≈ 1 line of code)\n",
    "    # s = ...\n",
    "    # YOUR CODE STARTS HERE\n",
    "    s=1/(1+np.exp(-z))\n",
    "    \n",
    "    # YOUR CODE ENDS HERE\n",
    "    \n",
    "    return s"
   ]
  },
  {
   "cell_type": "code",
   "execution_count": 6,
   "id": "1f4aff61",
   "metadata": {},
   "outputs": [
    {
     "name": "stdout",
     "output_type": "stream",
     "text": [
      "[2.06115362e-09 9.99999998e-01]\n"
     ]
    }
   ],
   "source": [
    "x=sigmoid(np.array([-20,20]))\n",
    "print(x)"
   ]
  },
  {
   "cell_type": "code",
   "execution_count": 20,
   "id": "c76bd6ba",
   "metadata": {},
   "outputs": [
    {
     "data": {
      "text/plain": [
       "array([0.])"
      ]
     },
     "execution_count": 20,
     "metadata": {},
     "output_type": "execute_result"
    }
   ],
   "source": [
    "b=np.array([0],dtype=float)\n",
    "b"
   ]
  },
  {
   "cell_type": "code",
   "execution_count": 23,
   "id": "59c7ea0d",
   "metadata": {},
   "outputs": [],
   "source": [
    "def initialize_with_zeros(dim):\n",
    "    \"\"\"\n",
    "    This function creates a vector of zeros of shape (dim, 1) for w and initializes b to 0.\n",
    "    \n",
    "    Argument:\n",
    "    dim -- size of the w vector we want (or number of parameters in this case)\n",
    "    \n",
    "    Returns:\n",
    "    w -- initialized vector of shape (dim, 1)\n",
    "    b -- initialized scalar (corresponds to the bias) of type float\n",
    "    \"\"\"\n",
    "    \n",
    "    # (≈ 2 lines of code)\n",
    "    # w = ...\n",
    "    # b = ...\n",
    "    # YOUR CODE STARTS HERE\n",
    "    w=np.zeros((dim,1))\n",
    "    b=0.0\n",
    "    \n",
    "    # YOUR CODE ENDS HERE\n",
    "\n",
    "    return w, b"
   ]
  },
  {
   "cell_type": "code",
   "execution_count": 25,
   "id": "8b1c4243",
   "metadata": {},
   "outputs": [
    {
     "name": "stdout",
     "output_type": "stream",
     "text": [
      "w = [[0.]\n",
      " [0.]]\n",
      "b = 0.0\n",
      "(2, 1)\n"
     ]
    }
   ],
   "source": [
    "dim = 2\n",
    "w, b = initialize_with_zeros(dim)\n",
    "\n",
    "assert type(b) == float\n",
    "print (\"w = \" + str(w))\n",
    "print (\"b = \" + str(b))\n",
    "\n",
    "#initialize_with_zeros_test(initialize_with_zeros)\n",
    "print(w.shape)"
   ]
  },
  {
   "cell_type": "code",
   "execution_count": 26,
   "id": "ba1b78aa",
   "metadata": {},
   "outputs": [
    {
     "data": {
      "text/plain": [
       "(2, 1)"
      ]
     },
     "execution_count": 26,
     "metadata": {},
     "output_type": "execute_result"
    }
   ],
   "source": [
    "w =  np.array([[1.], [2]])\n",
    "w.shape"
   ]
  },
  {
   "cell_type": "code",
   "execution_count": 27,
   "id": "4417c15b",
   "metadata": {},
   "outputs": [],
   "source": [
    "# GRADED FUNCTION: initialize_with_zeros\n",
    "\n",
    "def initialize_with_zeros(dim):\n",
    "    \"\"\"\n",
    "    This function creates a vector of zeros of shape (dim, 1) for w and initializes b to 0.\n",
    "    \n",
    "    Argument:\n",
    "    dim -- size of the w vector we want (or number of parameters in this case)\n",
    "    \n",
    "    Returns:\n",
    "    w -- initialized vector of shape (dim, 1)\n",
    "    b -- initialized scalar (corresponds to the bias) of type float\n",
    "    \"\"\"\n",
    "    \n",
    "    # (≈ 2 lines of code)\n",
    "    # w = ...\n",
    "    # b = ...\n",
    "    # YOUR CODE STARTS HERE\n",
    "    w=np.zeros((dim,1))\n",
    "    b=0.0\n",
    "    assert(w.shape == (dim, 1))\n",
    "    # YOUR CODE ENDS HERE\n",
    "\n",
    "    return w, b"
   ]
  },
  {
   "cell_type": "code",
   "execution_count": 29,
   "id": "c9c5e1e4",
   "metadata": {},
   "outputs": [
    {
     "name": "stdout",
     "output_type": "stream",
     "text": [
      "w = [[0.]\n",
      " [0.]]\n",
      "b = 0.0\n",
      "\u001b[92mAll tests passed!\n"
     ]
    }
   ],
   "source": [
    "\n",
    "def initialize_with_zeros_test(target):\n",
    "    dim = 3\n",
    "    w, b = target(dim)\n",
    "    assert type(b) == float, f\"Wrong type for b. {type(b)} != float\"\n",
    "    assert b == 0., \"b must be 0.0\"\n",
    "    assert type(w) == np.ndarray, f\"Wrong type for w. {type(w)} != np.ndarray\"\n",
    "    assert w.shape == (dim, 1), f\"Wrong shape for w. {w.shape} != {(dim, 1)}\"\n",
    "    assert np.allclose(w, [[0.], [0.], [0.]]), f\"Wrong values for w. {w} != {[[0.], [0.], [0.]]}\"\n",
    "    print('\\033[92mAll tests passed!')\n",
    "\n",
    "\n",
    "\n",
    "dim = 2\n",
    "w, b = initialize_with_zeros(dim)\n",
    "\n",
    "assert type(b) == float\n",
    "print (\"w = \" + str(w))\n",
    "print (\"b = \" + str(b))\n",
    "\n",
    "initialize_with_zeros_test(initialize_with_zeros)"
   ]
  },
  {
   "cell_type": "code",
   "execution_count": 33,
   "id": "ac6695a5",
   "metadata": {},
   "outputs": [
    {
     "name": "stdout",
     "output_type": "stream",
     "text": [
      "(2, 1)\n",
      "(2, 3)\n",
      "(2, 1)\n",
      "(2, 3)\n"
     ]
    }
   ],
   "source": [
    "#GRADED FUNCTION: propagate\n",
    "\n",
    "\n",
    "print(w.shape)\n",
    "print(X.shape)\n",
    "\n",
    "def propagate(w, b, X, Y):\n",
    "    \"\"\"\n",
    "    Implement the cost function and its gradient for the propagation explained above\n",
    "\n",
    "    Arguments:\n",
    "    w -- weights, a numpy array of size (num_px * num_px * 3, 1)\n",
    "    b -- bias, a scalar\n",
    "    X -- data of size (num_px * num_px * 3, number of examples)\n",
    "    Y -- true \"label\" vector (containing 0 if non-cat, 1 if cat) of size (1, number of examples)\n",
    "\n",
    "    Return:\n",
    "    cost -- negative log-likelihood cost for logistic regression\n",
    "    dw -- gradient of the loss with respect to w, thus same shape as w\n",
    "    db -- gradient of the loss with respect to b, thus same shape as b\n",
    "    \n",
    "    Tips:\n",
    "    - Write your code step by step for the propagation. np.log(), np.dot()\n",
    "    \"\"\"\n",
    "    \n",
    "    m = X.shape[1]\n",
    "    \n",
    "    # FORWARD PROPAGATION (FROM X TO COST)\n",
    "    #(≈ 2 lines of code)\n",
    "    # compute activation\n",
    "    # A = ...\n",
    "    # compute cost by using np.dot to perform multiplication. \n",
    "    # And don't use loops for the sum.\n",
    "    # cost = ...                                \n",
    "    # YOUR CODE STARTS HERE\n",
    "    A = sigmoid(np.dot(w.T, X) + b) \n",
    "    cost=-1/m *np.sum(Y*np.log(A)+(1-Y)*np.log(1-A))\n",
    "    \n",
    "    # YOUR CODE ENDS HERE\n",
    "\n",
    "    # BACKWARD PROPAGATION (TO FIND GRAD)\n",
    "    #(≈ 2 lines of code)\n",
    "    # dw = ...\n",
    "    # db = ...\n",
    "    # YOUR CODE STARTS HERE\n",
    "    dw=(1/m)*(np.dot(X,(A-Y).T))\n",
    "    db=(1/m)*np.sum(A-Y)\n",
    "    \n",
    "    # YOUR CODE ENDS HERE\n",
    "    cost = np.squeeze(np.array(cost))\n",
    "\n",
    "    \n",
    "    grads = {\"dw\": dw,\n",
    "             \"db\": db}\n",
    "    \n",
    "    return grads, cost\n",
    "print(w.shape)\n",
    "print(X.shape)"
   ]
  },
  {
   "cell_type": "code",
   "execution_count": 35,
   "id": "afccf27f",
   "metadata": {},
   "outputs": [
    {
     "name": "stdout",
     "output_type": "stream",
     "text": [
      "(2, 1)\n",
      "(2, 3)\n",
      "dw = [[ 0.25071532]\n",
      " [-0.06604096]]\n",
      "db = -0.1250040450043965\n",
      "cost = 0.15900537707692405\n",
      "\u001b[92mAll tests passed!\n",
      "(2, 1)\n",
      "(2, 3)\n"
     ]
    }
   ],
   "source": [
    "def propagate_test(target):\n",
    "    w, b = np.array([[1.], [2.], [-1]]), 2.5, \n",
    "    X = np.array([[1., 2., -1., 0], [3., 4., -3.2, 1], [3., 4., -3.2, -3.5]])\n",
    "    Y = np.array([[1, 1, 0, 0]])\n",
    "\n",
    "    expected_dw = np.array([[-0.03909333], [ 0.12501464], [-0.99960809]])\n",
    "    expected_db = np.float64(0.288106326429569)\n",
    "    expected_grads = {'dw': expected_dw,\n",
    "                      'db': expected_db}\n",
    "    expected_cost = np.array(2.0424567983978403)\n",
    "    expected_output = (expected_grads, expected_cost)\n",
    "    \n",
    "    grads, cost = target( w, b, X, Y)\n",
    "\n",
    "    assert type(grads['dw']) == np.ndarray, f\"Wrong type for grads['dw']. {type(grads['dw'])} != np.ndarray\"\n",
    "    assert grads['dw'].shape == w.shape, f\"Wrong shape for grads['dw']. {grads['dw'].shape} != {w.shape}\"\n",
    "    assert np.allclose(grads['dw'], expected_dw), f\"Wrong values for grads['dw']. {grads['dw']} != {expected_dw}\"\n",
    "    assert np.allclose(grads['db'], expected_db), f\"Wrong values for grads['db']. {grads['db']} != {expected_db}\"\n",
    "    assert np.allclose(cost, expected_cost), f\"Wrong values for cost. {cost} != {expected_cost}\"\n",
    "    print('\\033[92mAll tests passed!')\n",
    "\n",
    "print(w.shape)\n",
    "print(X.shape)\n",
    "\n",
    "\n",
    "w =  np.array([[1.], [2]])\n",
    "b = 1.5\n",
    "X = np.array([[1., -2., -1.], [3., 0.5, -3.2]])\n",
    "Y = np.array([[1, 1, 0]])\n",
    "grads, cost = propagate(w, b, X, Y)\n",
    "\n",
    "assert type(grads[\"dw\"]) == np.ndarray\n",
    "assert grads[\"dw\"].shape == (2, 1)\n",
    "assert type(grads[\"db\"]) == np.float64\n",
    "\n",
    "\n",
    "print (\"dw = \" + str(grads[\"dw\"]))\n",
    "print (\"db = \" + str(grads[\"db\"]))\n",
    "print (\"cost = \" + str(cost))\n",
    "\n",
    "propagate_test(propagate)\n",
    "print(w.shape)\n",
    "print(X.shape)"
   ]
  },
  {
   "cell_type": "code",
   "execution_count": 3,
   "id": "f7198033",
   "metadata": {},
   "outputs": [
    {
     "data": {
      "text/plain": [
       "(4,)"
      ]
     },
     "execution_count": 3,
     "metadata": {},
     "output_type": "execute_result"
    }
   ],
   "source": [
    "import numpy as np\n",
    "A = np.random.randn(4,3)\n",
    "B = np.sum(A, axis = 1) \n",
    "B.shape"
   ]
  },
  {
   "cell_type": "code",
   "execution_count": 6,
   "id": "e5de534d",
   "metadata": {},
   "outputs": [
    {
     "data": {
      "text/plain": [
       "array([[0.],\n",
       "       [0.],\n",
       "       [0.],\n",
       "       [0.]])"
      ]
     },
     "execution_count": 6,
     "metadata": {},
     "output_type": "execute_result"
    }
   ],
   "source": [
    "b=np.zeros([4,1])\n",
    "b"
   ]
  },
  {
   "cell_type": "code",
   "execution_count": 9,
   "id": "54f4e99d",
   "metadata": {},
   "outputs": [
    {
     "data": {
      "text/plain": [
       "(4, 2)"
      ]
     },
     "execution_count": 9,
     "metadata": {},
     "output_type": "execute_result"
    }
   ],
   "source": [
    " W1=np.random.randn(4,2)*0.01\n",
    "W1.shape"
   ]
  },
  {
   "cell_type": "code",
   "execution_count": 60,
   "id": "4ecd0752",
   "metadata": {},
   "outputs": [
    {
     "name": "stdout",
     "output_type": "stream",
     "text": [
      "[1, 4, 9, 16]\n"
     ]
    }
   ],
   "source": [
    "x = [1,2,3,4]\n",
    "\n",
    "print([i**2 for i in x])   "
   ]
  },
  {
   "cell_type": "code",
   "execution_count": 154,
   "id": "ebb5e31d",
   "metadata": {},
   "outputs": [
    {
     "ename": "IndexError",
     "evalue": "index 200 is out of bounds for axis 0 with size 1",
     "output_type": "error",
     "traceback": [
      "\u001b[1;31m---------------------------------------------------------------------------\u001b[0m",
      "\u001b[1;31mIndexError\u001b[0m                                Traceback (most recent call last)",
      "\u001b[1;32m~\\AppData\\Local\\Temp/ipykernel_8252/2792384340.py\u001b[0m in \u001b[0;36m<module>\u001b[1;34m\u001b[0m\n\u001b[0;32m     19\u001b[0m \u001b[1;33m\u001b[0m\u001b[0m\n\u001b[0;32m     20\u001b[0m     \u001b[1;32mreturn\u001b[0m \u001b[0mX\u001b[0m\u001b[1;33m,\u001b[0m \u001b[0mY\u001b[0m\u001b[1;33m\u001b[0m\u001b[1;33m\u001b[0m\u001b[0m\n\u001b[1;32m---> 21\u001b[1;33m \u001b[0mprint\u001b[0m\u001b[1;33m(\u001b[0m \u001b[0mY\u001b[0m\u001b[1;33m[\u001b[0m\u001b[0mix\u001b[0m\u001b[1;33m]\u001b[0m\u001b[1;33m.\u001b[0m\u001b[0mshape\u001b[0m\u001b[1;33m)\u001b[0m\u001b[1;33m\u001b[0m\u001b[1;33m\u001b[0m\u001b[0m\n\u001b[0m",
      "\u001b[1;31mIndexError\u001b[0m: index 200 is out of bounds for axis 0 with size 1"
     ]
    }
   ],
   "source": [
    "def load_planar_dataset():\n",
    "    np.random.seed(1)\n",
    "    m = 400 # number of examples\n",
    "    N = int(m/2) # number of points per class\n",
    "    D = 2 # dimensionality\n",
    "    X = np.zeros((m,D)) # data matrix where each row is a single example\n",
    "    Y = np.zeros((m,1), dtype='uint8') # labels vector (0 for red, 1 for blue)\n",
    "    a = 4 # maximum ray of the flower\n",
    "\n",
    "    for j in range(2):\n",
    "        ix = range(N*j,N*(j+1))\n",
    "        t = np.linspace(j*3.12,(j+1)*3.12,N) + np.random.randn(N)*0.2 # theta\n",
    "        r = a*np.sin(4*t) + np.random.randn(N)*0.2 # radius\n",
    "        X[ix] = np.c_[r*np.sin(t), r*np.cos(t)]\n",
    "        Y[ix] = j\n",
    "        \n",
    "    X = X.T\n",
    "    Y = Y.T\n",
    "\n",
    "    return X, Y\n",
    "print( Y[ix].shape)"
   ]
  },
  {
   "cell_type": "code",
   "execution_count": 159,
   "id": "f5f1543a",
   "metadata": {},
   "outputs": [],
   "source": [
    "np.random.seed(1)\n",
    "m = 400 # number of examples\n",
    "N = int(m/2) # number of points per class\n",
    "D = 2 # dimensionality\n",
    "X = np.zeros((m,D)) # data matrix where each row is a single example\n",
    "Y = np.zeros((m,1), dtype='uint8') # labels vector (0 for red, 1 for blue)\n",
    "a = 4 # maximum ray of the flower\n",
    "\n",
    "for j in range(2):\n",
    "    ix = range(N*j,N*(j+1))\n",
    "    t = np.linspace(j*3.12,(j+1)*3.12,N) + np.random.randn(N)*0.2 # theta\n",
    "    r = a*np.sin(4*t) + np.random.randn(N)*0.2 # radius\n",
    "    X[ix] =np.c_ [r*np.sin(t), r*np.cos(t)]\n",
    "    \n",
    "    Y[ix] = j\n",
    " \n",
    "   \n",
    "\n"
   ]
  },
  {
   "cell_type": "code",
   "execution_count": 169,
   "id": "f01f8f0e",
   "metadata": {},
   "outputs": [
    {
     "name": "stdout",
     "output_type": "stream",
     "text": [
      "(10, 2)\n",
      "1.083109937904927 0.0\n",
      "(10, 1)\n"
     ]
    }
   ],
   "source": [
    "\n",
    "np.random.seed(1)\n",
    "m=10\n",
    "N=int(m/2)\n",
    "a=4\n",
    "D = 2\n",
    "X = np.zeros((m,D))\n",
    "Y = np.zeros((m,1))\n",
    "for j in range(2):\n",
    "    ix = range(N*j,N*(j+1))\n",
    "    t = np.linspace(j*3.12,(j+1)*3.12,N) + np.random.randn(N)*0.2 # theta\n",
    "    r = a*np.sin(4*t) + np.random.randn(N)*0.2 # radius\n",
    "    X[ix] =np.c_ [r*np.sin(t), r*np.cos(t)]\n",
    "    Y[ix] = j\n",
    " \n",
    "\n",
    "print(X.shape)\n",
    "print(X[0,0],Y[0,0])\n",
    "print( Y.shape)\n"
   ]
  },
  {
   "cell_type": "code",
   "execution_count": 147,
   "id": "10c96bdf",
   "metadata": {},
   "outputs": [
    {
     "name": "stdout",
     "output_type": "stream",
     "text": [
      "(3,)\n"
     ]
    }
   ],
   "source": [
    "c=np.array([1,2,3])\n",
    "d=np.array([4,5,6])\n",
    "x=c.shape\n",
    "z=d.shape\n",
    "m=c*d\n",
    "print(m.shape)\n",
    "a=np.c_[np.array([1,2,3]), np.array([4,5,6])]\n",
    "\n"
   ]
  },
  {
   "cell_type": "code",
   "execution_count": 172,
   "id": "7959be7a",
   "metadata": {},
   "outputs": [
    {
     "data": {
      "text/plain": [
       "5"
      ]
     },
     "execution_count": 172,
     "metadata": {},
     "output_type": "execute_result"
    }
   ],
   "source": [
    "np.random.seed(1)\n",
    "X_assess = np.random.randn(5, 3)\n",
    "Y_assess = np.random.randn(2, 3)\n",
    "X_assess.shape[0]"
   ]
  },
  {
   "cell_type": "code",
   "execution_count": 174,
   "id": "935ec399",
   "metadata": {},
   "outputs": [],
   "source": [
    "\n",
    "def load_planar_dataset():\n",
    "    np.random.seed(1)\n",
    "    m = 400 # number of examples\n",
    "    N = int(m/2) # number of points per class\n",
    "    D = 2 # dimensionality\n",
    "    X = np.zeros((m,D)) # data matrix where each row is a single example\n",
    "    Y = np.zeros((m,1), dtype='uint8') # labels vector (0 for red, 1 for blue)\n",
    "    a = 4 # maximum ray of the flower\n",
    "\n",
    "    for j in range(2):\n",
    "        ix = range(N*j,N*(j+1))\n",
    "        t = np.linspace(j*3.12,(j+1)*3.12,N) + np.random.randn(N)*0.2 # theta\n",
    "        r = a*np.sin(4*t) + np.random.randn(N)*0.2 # radius\n",
    "        X[ix] = np.c_[r*np.sin(t), r*np.cos(t)]\n",
    "        Y[ix] = j\n",
    "        \n",
    "    X = X.T\n",
    "    Y = Y.T\n",
    "\n",
    "    return X, Y"
   ]
  },
  {
   "cell_type": "code",
   "execution_count": 175,
   "id": "3143ecea",
   "metadata": {},
   "outputs": [],
   "source": [
    "def layer_sizes(X, Y):\n",
    "    \"\"\"\n",
    "    Arguments:\n",
    "    X -- input dataset of shape (input size, number of examples)\n",
    "    Y -- labels of shape (output size, number of examples)\n",
    "    \n",
    "    Returns:\n",
    "    n_x -- the size of the input layer\n",
    "    n_h -- the size of the hidden layer\n",
    "    n_y -- the size of the output layer\n",
    "    \"\"\"\n",
    "    #(≈ 3 lines of code)\n",
    "    # n_x = ... \n",
    "    # n_h = ...\n",
    "    # n_y = ... \n",
    "    # YOUR CODE STARTS HERE\n",
    "    n_x=X.shape[0]\n",
    "    n_h=4\n",
    "    n_y=Y.shape[0]\n",
    "    #print(n_y)\n",
    "    # YOUR CODE ENDS HERE\n",
    "    return (n_x, n_h, n_y)"
   ]
  },
  {
   "cell_type": "code",
   "execution_count": 176,
   "id": "72033f1a",
   "metadata": {},
   "outputs": [],
   "source": [
    "def layer_sizes_test(target):\n",
    "    np.random.seed(1)\n",
    "    X = np.random.randn(5, 3)\n",
    "    Y = np.random.randn(2, 3)\n",
    "    expected_output = (5, 4, 2)\n",
    "    \n",
    "    output = target(X, Y)\n",
    "    \n",
    "    assert type(output) == tuple, \"Output must be a tuple\"\n",
    "    assert output == expected_output, f\"Wrong result. Expected {expected_output} got {output}\"\n",
    "    \n",
    "    X = np.random.randn(7, 5)\n",
    "    Y = np.random.randn(5, 5)\n",
    "    expected_output = (7, 4, 5)\n",
    "    \n",
    "    output = target(X, Y)\n",
    "    \n",
    "    assert type(output) == tuple, \"Output must be a tuple\"\n",
    "    assert output == expected_output, f\"Wrong result. Expected {expected_output} got {output}\"\n",
    "    \n",
    "    print(\"\\033[92mAll tests passed!\")\n",
    "            "
   ]
  },
  {
   "cell_type": "code",
   "execution_count": 177,
   "id": "8e56793d",
   "metadata": {},
   "outputs": [],
   "source": [
    "def layer_sizes_test_case():\n",
    "    np.random.seed(1)\n",
    "    X_assess = np.random.randn(5, 3)\n",
    "    Y_assess = np.random.randn(2, 3)\n",
    "    return X_assess, Y_assess\n"
   ]
  },
  {
   "cell_type": "code",
   "execution_count": 182,
   "id": "f8cf098f",
   "metadata": {},
   "outputs": [
    {
     "name": "stdout",
     "output_type": "stream",
     "text": [
      "The size of the input layer is: n_x = 5\n",
      "The size of the hidden layer is: n_h = 4\n",
      "The size of the output layer is: n_y = 2\n"
     ]
    }
   ],
   "source": [
    "t_X, t_Y = layer_sizes_test_case()\n",
    "(n_x, n_h, n_y) = layer_sizes(t_X, t_Y)\n",
    "print(\"The size of the input layer is: n_x = \" + str(n_x))\n",
    "print(\"The size of the hidden layer is: n_h = \" + str(n_h))\n",
    "print(\"The size of the output layer is: n_y = \" + str(n_y))"
   ]
  },
  {
   "cell_type": "code",
   "execution_count": null,
   "id": "2cf8f109",
   "metadata": {},
   "outputs": [],
   "source": [
    "(n_x, n_h, n_y) = layer_sizes(t_X, t_Y)\n",
    "print(\"The size of the input layer is: n_x = \" + str(n_x))\n",
    "print(\"The size of the hidden layer is: n_h = \" + str(n_h))\n",
    "print(\"The size of the output layer is: n_y = \" + str(n_y))\n",
    "\n",
    "layer_sizes_test(layer_sizes)"
   ]
  },
  {
   "cell_type": "code",
   "execution_count": 188,
   "id": "f0cdbc4c",
   "metadata": {},
   "outputs": [],
   "source": [
    "def initialize_parameters(n_x, n_h, n_y):\n",
    "    \"\"\"\n",
    "    Argument:\n",
    "    n_x -- size of the input layer\n",
    "    n_h -- size of the hidden layer\n",
    "    n_y -- size of the output layer\n",
    "    \n",
    "    Returns:\n",
    "    params -- python dictionary containing your parameters:\n",
    "                    W1 -- weight matrix of shape (n_h, n_x)\n",
    "                    b1 -- bias vector of shape (n_h, 1)\n",
    "                    W2 -- weight matrix of shape (n_y, n_h)\n",
    "                    b2 -- bias vector of shape (n_y, 1)\n",
    "    \"\"\"    \n",
    "    #(≈ 4 lines of code)\n",
    "    # W1 = ...\n",
    "    # b1 = ...\n",
    "    # W2 = ...\n",
    "    # b2 = ...\n",
    "    # YOUR CODE STARTS HERE\n",
    "    W1=np.random.randn(n_h, n_x)*0.01\n",
    "    b1=np.zeros([n_h, 1])\n",
    "    W2=np.random.randn(n_y, n_h)*0.01\n",
    "    b2=np.zeros([n_y, 1])\n",
    "    print(W1.shape)\n",
    "    # YOUR CODE ENDS HERE\n",
    "\n",
    "    parameters = {\"W1\": W1,\n",
    "                  \"b1\": b1,\n",
    "                  \"W2\": W2,\n",
    "                  \"b2\": b2}\n",
    "    \n",
    "    return parameters"
   ]
  },
  {
   "cell_type": "code",
   "execution_count": null,
   "id": "8a17dc76",
   "metadata": {},
   "outputs": [],
   "source": [
    "def initialize_parameters_test_case():\n",
    "    n_x, n_h, n_y = 2, 4, 1\n",
    "    return n_x, n_h, n_y\n"
   ]
  },
  {
   "cell_type": "code",
   "execution_count": null,
   "id": "6f991309",
   "metadata": {},
   "outputs": [],
   "source": [
    "def initialize_parameters_test(target):\n",
    "    np.random.seed(2)\n",
    "    n_x, n_h, n_y = 3, 5, 2\n",
    "\n",
    "    expected_output = {'W1': np.array(\n",
    "        [[-0.00416758, -0.00056267, -0.02136196],\n",
    "         [ 0.01640271, -0.01793436, -0.00841747],\n",
    "         [ 0.00502881, -0.01245288, -0.01057952],\n",
    "         [-0.00909008,  0.00551454,  0.02292208],\n",
    "         [ 0.00041539, -0.01117925,  0.00539058]]), \n",
    "                       'b1': np.array([[0.], [0.], [0.], [0.], [0.]]), \n",
    "                       'W2': np.array([[-5.96159700e-03, -1.91304965e-04,  1.17500122e-02,\n",
    "        -7.47870949e-03,  9.02525097e-05],\n",
    "       [-8.78107893e-03, -1.56434170e-03,  2.56570452e-03,\n",
    "        -9.88779049e-03, -3.38821966e-03]]), \n",
    "                       'b2': np.array([[0.], [0.]])}\n",
    "    \n",
    "    parameters = target(n_x, n_h, n_y)\n",
    "    \n",
    "    assert type(parameters[\"W1\"]) == np.ndarray, f\"Wrong type for W1. Expected: {np.ndarray}\"\n",
    "    assert type(parameters[\"b1\"]) == np.ndarray, f\"Wrong type for b1. Expected: {np.ndarray}\"\n",
    "    assert type(parameters[\"W2\"]) == np.ndarray, f\"Wrong type for W2. Expected: {np.ndarray}\"\n",
    "    assert type(parameters[\"b2\"]) == np.ndarray, f\"Wrong type for b2. Expected: {np.ndarray}\"\n",
    "    \n",
    "    assert parameters[\"W1\"].shape == expected_output[\"W1\"].shape, f\"Wrong shape for W1.\"\n",
    "    assert parameters[\"b1\"].shape == expected_output[\"b1\"].shape, f\"Wrong shape for b1.\"\n",
    "    assert parameters[\"W2\"].shape == expected_output[\"W2\"].shape, f\"Wrong shape for W2.\"\n",
    "    assert parameters[\"b2\"].shape == expected_output[\"b2\"].shape, f\"Wrong shape for b2.\"\n",
    "    \n",
    "    assert np.allclose(parameters[\"W1\"], expected_output[\"W1\"]), \"Wrong values for W1\"\n",
    "    assert np.allclose(parameters[\"b1\"], expected_output[\"b1\"]), \"Wrong values for b1\"\n",
    "    assert np.allclose(parameters[\"W2\"], expected_output[\"W2\"]), \"Wrong values for W2\"\n",
    "    assert np.allclose(parameters[\"b2\"], expected_output[\"b2\"]), \"Wrong values for b2\"\n",
    "   \n",
    "    print(\"\\033[92mAll tests passed!\")"
   ]
  },
  {
   "cell_type": "code",
   "execution_count": 189,
   "id": "241893bc",
   "metadata": {},
   "outputs": [
    {
     "name": "stdout",
     "output_type": "stream",
     "text": [
      "(4, 5)\n",
      "W1 = [[-4.16757847e-03 -5.62668272e-04 -2.13619610e-02  1.64027081e-02\n",
      "  -1.79343559e-02]\n",
      " [-8.41747366e-03  5.02881417e-03 -1.24528809e-02 -1.05795222e-02\n",
      "  -9.09007615e-03]\n",
      " [ 5.51454045e-03  2.29220801e-02  4.15393930e-04 -1.11792545e-02\n",
      "   5.39058321e-03]\n",
      " [-5.96159700e-03 -1.91304965e-04  1.17500122e-02 -7.47870949e-03\n",
      "   9.02525097e-05]]\n",
      "b1 = [[0.]\n",
      " [0.]\n",
      " [0.]\n",
      " [0.]]\n",
      "W2 = [[-0.00878108 -0.00156434  0.0025657  -0.00988779]\n",
      " [-0.00338822 -0.00236184 -0.00637655 -0.01187612]]\n",
      "b2 = [[0.]\n",
      " [0.]]\n"
     ]
    }
   ],
   "source": [
    "np.random.seed(2)\n",
    "parameters = initialize_parameters(n_x, n_h, n_y)\n",
    "\n",
    "print(\"W1 = \" + str(parameters[\"W1\"]))\n",
    "print(\"b1 = \" + str(parameters[\"b1\"]))\n",
    "print(\"W2 = \" + str(parameters[\"W2\"]))\n",
    "print(\"b2 = \" + str(parameters[\"b2\"]))\n",
    "\n"
   ]
  },
  {
   "cell_type": "code",
   "execution_count": 198,
   "id": "4adcea01",
   "metadata": {},
   "outputs": [],
   "source": [
    "w=np.random.randn(4,2)\n",
    "x=np.random.randn(2,3)\n",
    "b=np.random.randn(4,1)\n",
    "c=np.dot(w,x)+b\n",
    "d=np.tanh(c)\n",
    "w1=np.random.randn(1,4)\n",
    "b1=-1.3\n",
    "e=np.dot(w1,d)+b1\n",
    "assert(e.shape==(1,x.shape[1]))"
   ]
  },
  {
   "cell_type": "code",
   "execution_count": null,
   "id": "ee57bf3e",
   "metadata": {},
   "outputs": [],
   "source": []
  }
 ],
 "metadata": {
  "kernelspec": {
   "display_name": "Python 3 (ipykernel)",
   "language": "python",
   "name": "python3"
  },
  "language_info": {
   "codemirror_mode": {
    "name": "ipython",
    "version": 3
   },
   "file_extension": ".py",
   "mimetype": "text/x-python",
   "name": "python",
   "nbconvert_exporter": "python",
   "pygments_lexer": "ipython3",
   "version": "3.10.0"
  }
 },
 "nbformat": 4,
 "nbformat_minor": 5
}
